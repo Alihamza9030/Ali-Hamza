{
 "cells": [
  {
   "cell_type": "code",
   "execution_count": 1,
   "id": "24c2d91e-86e8-4519-9675-910e8edfc98a",
   "metadata": {},
   "outputs": [],
   "source": [
    "Compus = \"Auto ban hyderabad\""
   ]
  },
  {
   "cell_type": "code",
   "execution_count": 5,
   "id": "eaf97cb4-6fd1-4ae8-8f14-bf541a6b6472",
   "metadata": {},
   "outputs": [
    {
     "name": "stdout",
     "output_type": "stream",
     "text": [
      "Auto ban hyderabad\n"
     ]
    }
   ],
   "source": [
    "# 1. Makes first letter big\n",
    "print(Compus.capitalize())"
   ]
  },
  {
   "cell_type": "code",
   "execution_count": 6,
   "id": "56873702-99f4-4775-a31e-503fcc25ea35",
   "metadata": {},
   "outputs": [
    {
     "name": "stdout",
     "output_type": "stream",
     "text": [
      "auto ban hyderabad\n"
     ]
    }
   ],
   "source": [
    "# 2. Changes all letters to small\n",
    "print(Compus.casefold())"
   ]
  },
  {
   "cell_type": "code",
   "execution_count": 13,
   "id": "f9757113-40dd-42ca-8b6e-6552cf49d759",
   "metadata": {},
   "outputs": [
    {
     "name": "stdout",
     "output_type": "stream",
     "text": [
      "//////Auto ban hyderabad//////\n"
     ]
    }
   ],
   "source": [
    "# 3. Puts text in center with -\n",
    "print(Compus.center(30,\"/\"))"
   ]
  },
  {
   "cell_type": "code",
   "execution_count": 15,
   "id": "fbf00454-2ca4-4b2f-a026-28d881765612",
   "metadata": {},
   "outputs": [
    {
     "name": "stdout",
     "output_type": "stream",
     "text": [
      "3\n",
      "1\n"
     ]
    }
   ],
   "source": [
    "# 4. Counts how many times \"a\" and  \"h\"comes\n",
    "print(Compus.count(\"a\"))\n",
    "print(Compus.count(\"h\"))"
   ]
  },
  {
   "cell_type": "code",
   "execution_count": 16,
   "id": "64e01288-ce45-4124-88b1-a4f516604eba",
   "metadata": {},
   "outputs": [
    {
     "name": "stdout",
     "output_type": "stream",
     "text": [
      "b'Auto ban hyderabad'\n"
     ]
    }
   ],
   "source": [
    "# 5. Gives encoded form\n",
    "print(Compus.encode())"
   ]
  },
  {
   "cell_type": "code",
   "execution_count": 18,
   "id": "14a78e3f-74e3-4e4f-a241-1fb14a412fa7",
   "metadata": {},
   "outputs": [
    {
     "name": "stdout",
     "output_type": "stream",
     "text": [
      "True\n",
      "False\n"
     ]
    }
   ],
   "source": [
    "# 6. Checks if it ends with \"bad\"\n",
    "print(Compus.endswith(\"bad\"))\n",
    "print(Compus.endswith(\"xyz\"))"
   ]
  },
  {
   "cell_type": "code",
   "execution_count": 26,
   "id": "6dab77e6-f933-4fca-a6b6-91dd83c2ab8b",
   "metadata": {},
   "outputs": [
    {
     "name": "stdout",
     "output_type": "stream",
     "text": [
      "A B C\n",
      "A  B  C\n",
      "A   B   C\n"
     ]
    }
   ],
   "source": [
    "# 7. Changes tab to spaces\n",
    "print(\"A\\tB\\tC\".expandtabs(1))\n",
    "print(\"A\\tB\\tC\".expandtabs(3))\n",
    "print(\"A\\tB\\tC\".expandtabs(4))"
   ]
  },
  {
   "cell_type": "code",
   "execution_count": 29,
   "id": "5ddef994-da98-402a-b59e-01ec77ae9b90",
   "metadata": {},
   "outputs": [
    {
     "name": "stdout",
     "output_type": "stream",
     "text": [
      "5\n",
      "9\n"
     ]
    }
   ],
   "source": [
    "# 8. Finds first place of \"ban\" and \"hyd\"\n",
    "print(Compus.find(\"ban\")) \n",
    "print(Compus.find(\"hyd\")) "
   ]
  },
  {
   "cell_type": "code",
   "execution_count": 31,
   "id": "557c4018-5409-4329-a12b-561f530d5af9",
   "metadata": {},
   "outputs": [
    {
     "name": "stdout",
     "output_type": "stream",
     "text": [
      "The City of Birds Hyderabad\n"
     ]
    }
   ],
   "source": [
    "# 9. Puts value inside {}\n",
    "print(\"The City of Birds {}\".format(\"Hyderabad\"))"
   ]
  },
  {
   "cell_type": "code",
   "execution_count": 33,
   "id": "d9f0da6f-cc22-44e2-b46a-2e0fc2af0523",
   "metadata": {},
   "outputs": [
    {
     "name": "stdout",
     "output_type": "stream",
     "text": [
      "My name is Ali Hamza, I live in Hyderabad\n"
     ]
    }
   ],
   "source": [
    "# 10. Uses dictionary values\n",
    "info = {\"Name\":\"Ali Hamza\",\"City\":\"Hyderabad\"}\n",
    "print(\"My name is {name}, I live in {city}\".format_map(info))"
   ]
  },
  {
   "cell_type": "code",
   "execution_count": 37,
   "id": "67949d38-8dba-4248-851c-a804924e5a2e",
   "metadata": {},
   "outputs": [
    {
     "name": "stdout",
     "output_type": "stream",
     "text": [
      "5\n",
      "10\n"
     ]
    }
   ],
   "source": [
    "# 11. Same as find but error if not found\n",
    "print(Compus.index(\"ban\"))\n",
    "print(Compus.index(\"y\"))"
   ]
  },
  {
   "cell_type": "code",
   "execution_count": 41,
   "id": "f1d0cc7f-955e-4be6-bf8d-49e8bfc48e6c",
   "metadata": {},
   "outputs": [
    {
     "name": "stdout",
     "output_type": "stream",
     "text": [
      "True\n"
     ]
    }
   ],
   "source": [
    "# 12. True if only letters+numbers\n",
    "print(\"123Hyderabad\".isalnum())"
   ]
  },
  {
   "cell_type": "code",
   "execution_count": 44,
   "id": "5c5c5ded-d085-4d68-ae9c-8e0c6243c3a8",
   "metadata": {},
   "outputs": [
    {
     "name": "stdout",
     "output_type": "stream",
     "text": [
      "True\n"
     ]
    }
   ],
   "source": [
    "# 13. True if only letters\n",
    "print(\"Auto\".isalpha())"
   ]
  },
  {
   "cell_type": "code",
   "execution_count": 47,
   "id": "4f6d7b60-03cd-43b3-b96c-1216c1169643",
   "metadata": {},
   "outputs": [
    {
     "name": "stdout",
     "output_type": "stream",
     "text": [
      "True\n"
     ]
    }
   ],
   "source": [
    "# 14. True if only ASCII letters\n",
    "print(Compus.isascii())"
   ]
  },
  {
   "cell_type": "code",
   "execution_count": 50,
   "id": "bd4b48f8-a8dd-416e-90f9-208984bd1afc",
   "metadata": {},
   "outputs": [
    {
     "name": "stdout",
     "output_type": "stream",
     "text": [
      "False\n",
      "True\n"
     ]
    }
   ],
   "source": [
    "# 15. True if only decimal numbers\n",
    "print(\"hyd\".isdecimal())\n",
    "print(\"4817\".isdecimal())"
   ]
  },
  {
   "cell_type": "code",
   "execution_count": 51,
   "id": "8a41c352-9d83-45a8-9634-38355e83560e",
   "metadata": {},
   "outputs": [
    {
     "name": "stdout",
     "output_type": "stream",
     "text": [
      "True\n"
     ]
    }
   ],
   "source": [
    "# 16. True if only digits\n",
    "print(\"2025\".isdigit()) "
   ]
  },
  {
   "cell_type": "code",
   "execution_count": 53,
   "id": "9461e1c1-54d9-41ff-827a-5ce3de2fa3ca",
   "metadata": {},
   "outputs": [
    {
     "name": "stdout",
     "output_type": "stream",
     "text": [
      "True\n"
     ]
    }
   ],
   "source": [
    "# 17. Checks if it is a valid variable name\n",
    "print(\"compus\".isidentifier())"
   ]
  },
  {
   "cell_type": "code",
   "execution_count": 54,
   "id": "78ef6370-3e03-4726-879c-7e6f9663097f",
   "metadata": {},
   "outputs": [
    {
     "name": "stdout",
     "output_type": "stream",
     "text": [
      "False\n"
     ]
    }
   ],
   "source": [
    "# 18. True if all small letters\n",
    "print(Compus.islower())"
   ]
  },
  {
   "cell_type": "code",
   "execution_count": 55,
   "id": "301ea2a7-9d2b-4177-96f3-2e320b890c9b",
   "metadata": {},
   "outputs": [
    {
     "name": "stdout",
     "output_type": "stream",
     "text": [
      "True\n"
     ]
    }
   ],
   "source": [
    "# 19. True if numbers (like fractions)\n",
    "print(\"⅔\".isnumeric())"
   ]
  },
  {
   "cell_type": "code",
   "execution_count": 57,
   "id": "e26d6972-668b-4db8-b8bc-80ce172d9af9",
   "metadata": {},
   "outputs": [
    {
     "name": "stdout",
     "output_type": "stream",
     "text": [
      "True\n",
      "True\n",
      "False\n",
      "False\n"
     ]
    }
   ],
   "source": [
    "# 20. True if all can be printed\n",
    "print(Compus.isprintable()) \n",
    "\n",
    "# 21. True if only spaces\n",
    "print(\"   \".isspace())   \n",
    "\n",
    "# 22. True if each word starts with big letter\n",
    "print(Compus.istitle())  \n",
    "\n",
    "# 23. True if all big letters\n",
    "print(Compus.isupper())"
   ]
  },
  {
   "cell_type": "code",
   "execution_count": 59,
   "id": "7173dbb2-db1b-4c31-a718-2d3773a8c6fb",
   "metadata": {},
   "outputs": [
    {
     "name": "stdout",
     "output_type": "stream",
     "text": [
      "Auto-ban-Hyderabad\n",
      "Auto/ban/Hyderabad\n"
     ]
    }
   ],
   "source": [
    "# 24. Joins words with -\n",
    "print(\"-\".join([\"Auto\",\"ban\",\"Hyderabad\"])) \n",
    "print(\"/\".join([\"Auto\",\"ban\",\"Hyderabad\"])) "
   ]
  },
  {
   "cell_type": "code",
   "execution_count": 60,
   "id": "9fba770b-4f8f-4a68-986a-cc64c94dea9e",
   "metadata": {},
   "outputs": [
    {
     "name": "stdout",
     "output_type": "stream",
     "text": [
      "Auto ban hyderabad*******\n"
     ]
    }
   ],
   "source": [
    "# 25. Moves text left and fills right side\n",
    "print(Compus.ljust(25, \"*\"))"
   ]
  },
  {
   "cell_type": "code",
   "execution_count": 61,
   "id": "35cd5f31-8f2c-4e66-8458-21c615cff10a",
   "metadata": {},
   "outputs": [
    {
     "name": "stdout",
     "output_type": "stream",
     "text": [
      "auto ban hyderabad\n"
     ]
    }
   ],
   "source": [
    "# 26. Makes all letters small\n",
    "print(Compus.lower())"
   ]
  },
  {
   "cell_type": "code",
   "execution_count": 62,
   "id": "cd8a5377-f888-4ab7-a143-6b85e5a19489",
   "metadata": {},
   "outputs": [
    {
     "name": "stdout",
     "output_type": "stream",
     "text": [
      "   Auto ban hyderabad\n"
     ]
    }
   ],
   "source": [
    "# 27. Removes spaces from left\n",
    "print(\"   \" + Compus.lstrip())  "
   ]
  },
  {
   "cell_type": "code",
   "execution_count": 63,
   "id": "52e54e4a-6a3c-49fd-97f8-3973dd0902b4",
   "metadata": {},
   "outputs": [
    {
     "name": "stdout",
     "output_type": "stream",
     "text": [
      "Auto b@n hyder@b@d\n"
     ]
    }
   ],
   "source": [
    "table = str.maketrans(\"a\",\"@\")\n",
    "print(Compus.translate(table))"
   ]
  },
  {
   "cell_type": "code",
   "execution_count": 66,
   "id": "09abff2c-1523-4005-8e80-bd36550bad6a",
   "metadata": {},
   "outputs": [
    {
     "name": "stdout",
     "output_type": "stream",
     "text": [
      "('Auto', ' ', 'ban hyderabad')\n"
     ]
    }
   ],
   "source": [
    "# 29. Splits text in 3 parts\n",
    "print(Compus.partition(\" \"))"
   ]
  },
  {
   "cell_type": "code",
   "execution_count": 67,
   "id": "8509b35d-19a3-4cc4-88f5-6546f299f249",
   "metadata": {},
   "outputs": [
    {
     "name": "stdout",
     "output_type": "stream",
     "text": [
      "Auto road hyderabad\n"
     ]
    }
   ],
   "source": [
    "# 30. Replaces ban with road\n",
    "print(Compus.replace(\"ban\",\"road\"))"
   ]
  },
  {
   "cell_type": "code",
   "execution_count": 69,
   "id": "d1169c42-d987-4921-8ccd-a30215a8dd85",
   "metadata": {},
   "outputs": [
    {
     "name": "stdout",
     "output_type": "stream",
     "text": [
      "16\n",
      "17\n"
     ]
    }
   ],
   "source": [
    "# 31. Finds last place of \"a\"\n",
    "print(Compus.rfind(\"a\")) \n",
    "print(Compus.rfind(\"d\")) "
   ]
  },
  {
   "cell_type": "code",
   "execution_count": 72,
   "id": "a26ef29b-a865-47b0-a3fa-21d1ee834e7f",
   "metadata": {},
   "outputs": [
    {
     "name": "stdout",
     "output_type": "stream",
     "text": [
      "15\n"
     ]
    }
   ],
   "source": [
    "# 32. Same as rfind but error if not found\n",
    "print(Compus.rindex(\"bad\"))"
   ]
  },
  {
   "cell_type": "code",
   "execution_count": 73,
   "id": "99cd42b3-abd8-4a00-b7a0-1f3db18b3d78",
   "metadata": {},
   "outputs": [
    {
     "name": "stdout",
     "output_type": "stream",
     "text": [
      "*******Auto ban hyderabad\n"
     ]
    }
   ],
   "source": [
    "# 33. Moves text right and fills left side\n",
    "print(Compus.rjust(25,\"*\"))"
   ]
  },
  {
   "cell_type": "code",
   "execution_count": 74,
   "id": "ad7d9623-bb6c-4663-9348-4f9ee4fee568",
   "metadata": {},
   "outputs": [
    {
     "name": "stdout",
     "output_type": "stream",
     "text": [
      "('Auto ban', ' ', 'hyderabad')\n"
     ]
    }
   ],
   "source": [
    "# 34. Splits text from right side\n",
    "print(Compus.rpartition(\" \"))"
   ]
  },
  {
   "cell_type": "code",
   "execution_count": 75,
   "id": "5414b3c3-4c46-4e10-a7a4-9c17b7ef2460",
   "metadata": {},
   "outputs": [
    {
     "name": "stdout",
     "output_type": "stream",
     "text": [
      "['Auto ban', 'hyderabad']\n"
     ]
    }
   ],
   "source": [
    "# 35. Splits from right one time\n",
    "print(Compus.rsplit(\" \",1)) "
   ]
  },
  {
   "cell_type": "code",
   "execution_count": 76,
   "id": "05e2f65f-d91e-4088-b229-77a2de8b6762",
   "metadata": {},
   "outputs": [
    {
     "name": "stdout",
     "output_type": "stream",
     "text": [
      "Auto ban hyderabad\n"
     ]
    }
   ],
   "source": [
    "# 36. Removes spaces from right\n",
    "print((Compus + \"   \").rstrip())"
   ]
  },
  {
   "cell_type": "code",
   "execution_count": 77,
   "id": "463b48b1-b8ec-49c2-bb99-1068d5f0c19d",
   "metadata": {},
   "outputs": [
    {
     "name": "stdout",
     "output_type": "stream",
     "text": [
      "['Auto', 'ban', 'hyderabad']\n"
     ]
    }
   ],
   "source": [
    "# 37. Splits into words\n",
    "print(Compus.split())  "
   ]
  },
  {
   "cell_type": "code",
   "execution_count": 78,
   "id": "50039dab-186f-4140-a7ee-b794891ed769",
   "metadata": {},
   "outputs": [
    {
     "name": "stdout",
     "output_type": "stream",
     "text": [
      "['Auto', 'ban', 'Hyderabad']\n"
     ]
    }
   ],
   "source": [
    "# 38. Splits at line breaks\n",
    "print(\"Auto\\nban\\nHyderabad\".splitlines())"
   ]
  },
  {
   "cell_type": "code",
   "execution_count": 79,
   "id": "bb85e729-5cd2-493b-b64b-4c5fa1df0528",
   "metadata": {},
   "outputs": [
    {
     "name": "stdout",
     "output_type": "stream",
     "text": [
      "True\n"
     ]
    }
   ],
   "source": [
    "# 39. Checks if starts with Auto\n",
    "print(Compus.startswith(\"Auto\"))"
   ]
  },
  {
   "cell_type": "code",
   "execution_count": 80,
   "id": "6d74531e-7718-45d6-ad08-4599b18b3eca",
   "metadata": {},
   "outputs": [
    {
     "name": "stdout",
     "output_type": "stream",
     "text": [
      "   Auto ban hyderabad   \n"
     ]
    }
   ],
   "source": [
    "# 40. Removes spaces both sides\n",
    "print(\"   \" + Compus.strip() + \"   \")  "
   ]
  },
  {
   "cell_type": "code",
   "execution_count": 81,
   "id": "262d4c8f-f735-448e-aa21-365737f0760a",
   "metadata": {},
   "outputs": [
    {
     "name": "stdout",
     "output_type": "stream",
     "text": [
      "aUTO BAN HYDERABAD\n"
     ]
    }
   ],
   "source": [
    "# 41. Changes small to big and big to small\n",
    "print(Compus.swapcase())"
   ]
  },
  {
   "cell_type": "code",
   "execution_count": 82,
   "id": "12d7c8c5-84eb-43fc-97b2-199c8c9e3431",
   "metadata": {},
   "outputs": [
    {
     "name": "stdout",
     "output_type": "stream",
     "text": [
      "Auto Ban Hyderabad\n"
     ]
    }
   ],
   "source": [
    "# 42. Makes each word start with big letter\n",
    "print(Compus.title())  "
   ]
  },
  {
   "cell_type": "code",
   "execution_count": 83,
   "id": "f4656546-a558-43db-8a44-a84c9180ea58",
   "metadata": {},
   "outputs": [
    {
     "name": "stdout",
     "output_type": "stream",
     "text": [
      "AUTO BAN HYDERABAD\n"
     ]
    }
   ],
   "source": [
    "# 43. Makes all letters big\n",
    "print(Compus.upper())    "
   ]
  },
  {
   "cell_type": "code",
   "execution_count": 84,
   "id": "fa8ed87b-805b-4b4b-a20f-0ae8c79687b1",
   "metadata": {},
   "outputs": [
    {
     "name": "stdout",
     "output_type": "stream",
     "text": [
      "0000000123\n"
     ]
    }
   ],
   "source": [
    "# 44. Adds zeros before number\n",
    "print(\"123\".zfill(10)) "
   ]
  }
 ],
 "metadata": {
  "kernelspec": {
   "display_name": "Python 3 (ipykernel)",
   "language": "python",
   "name": "python3"
  },
  "language_info": {
   "codemirror_mode": {
    "name": "ipython",
    "version": 3
   },
   "file_extension": ".py",
   "mimetype": "text/x-python",
   "name": "python",
   "nbconvert_exporter": "python",
   "pygments_lexer": "ipython3",
   "version": "3.13.5"
  }
 },
 "nbformat": 4,
 "nbformat_minor": 5
}
